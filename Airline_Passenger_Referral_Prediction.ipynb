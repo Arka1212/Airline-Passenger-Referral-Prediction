{
  "nbformat": 4,
  "nbformat_minor": 0,
  "metadata": {
    "colab": {
      "name": "Airline Passenger Referral Prediction.ipynb",
      "provenance": [],
      "authorship_tag": "ABX9TyMifLDpHGbcfcvSEcIrGPPP",
      "include_colab_link": true
    },
    "kernelspec": {
      "name": "python3",
      "display_name": "Python 3"
    },
    "language_info": {
      "name": "python"
    }
  },
  "cells": [
    {
      "cell_type": "markdown",
      "metadata": {
        "id": "view-in-github",
        "colab_type": "text"
      },
      "source": [
        "<a href=\"https://colab.research.google.com/github/Arka1212/Airline-Passenger-Referral-Prediction/blob/main/Airline_Passenger_Referral_Prediction.ipynb\" target=\"_parent\"><img src=\"https://colab.research.google.com/assets/colab-badge.svg\" alt=\"Open In Colab\"/></a>"
      ]
    },
    {
      "cell_type": "markdown",
      "source": [
        "# ***Data includes airline reviews from 2006 to 2019 for popular airlines around the world with multiple choice and free text questions. Data is scraped in Spring 2019. The main objective is to predict whether passengers will refer the airline to their friends.***"
      ],
      "metadata": {
        "id": "aZu6g2aTFX1d"
      }
    },
    {
      "cell_type": "markdown",
      "source": [
        "### **Feature descriptions briefly as follows:**\n",
        "\n",
        "### **airline:** Name of the airline.\n",
        "### **overall:** Overall point is given to the trip between 1 to 10.\n",
        "### **author:** Author of the trip\n",
        "### **reviewdate:** Date of the Review customer review: Review of the customers in free text format\n",
        "### **aircraft:** Type of the aircraft\n",
        "### **travellertype:** Type of traveler (e.g. business, leisure)\n",
        "### **cabin:** Cabin at the flight date flown: Flight date\n",
        "### **seatcomfort:** Rated between 1-5\n",
        "### **cabin service:** Rated between 1-5\n",
        "### **foodbev:** Rated between 1-5 entertainment: Rated between 1-5\n",
        "### **groundservice:** Rated between 1-5\n",
        "### **valueformoney:** Rated between 1-5\n",
        "### **recommended:** Binary, target variable.\n",
        "\n",
        "\n"
      ],
      "metadata": {
        "id": "G3ZSVUeDGAtQ"
      }
    },
    {
      "cell_type": "code",
      "source": [
        ""
      ],
      "metadata": {
        "id": "ZA80bs6SG4Rx"
      },
      "execution_count": null,
      "outputs": []
    }
  ]
}