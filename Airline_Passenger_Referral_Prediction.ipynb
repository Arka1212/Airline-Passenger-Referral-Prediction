{
  "nbformat": 4,
  "nbformat_minor": 0,
  "metadata": {
    "colab": {
      "name": "Airline Passenger Referral Prediction.ipynb",
      "provenance": [],
      "authorship_tag": "ABX9TyMR+qCWe4jQqclotVnH81Aq",
      "include_colab_link": true
    },
    "kernelspec": {
      "name": "python3",
      "display_name": "Python 3"
    },
    "language_info": {
      "name": "python"
    }
  },
  "cells": [
    {
      "cell_type": "markdown",
      "metadata": {
        "id": "view-in-github",
        "colab_type": "text"
      },
      "source": [
        "<a href=\"https://colab.research.google.com/github/Arka1212/Airline-Passenger-Referral-Prediction/blob/main/Airline_Passenger_Referral_Prediction.ipynb\" target=\"_parent\"><img src=\"https://colab.research.google.com/assets/colab-badge.svg\" alt=\"Open In Colab\"/></a>"
      ]
    },
    {
      "cell_type": "markdown",
      "source": [
        "# ***Data includes airline reviews from 2006 to 2019 for popular airlines around the world with multiple choice and free text questions. Data is scraped in Spring 2019. The main objective is to predict whether passengers will refer the airline to their friends.***"
      ],
      "metadata": {
        "id": "aZu6g2aTFX1d"
      }
    },
    {
      "cell_type": "markdown",
      "source": [
        "# **Feature descriptions briefly as follows:**\n",
        "\n",
        "## **airline:** Name of the airline.\n",
        "## **overall:** Overall point is given to the trip between 1 to 10.\n",
        "## **author:** Author of the trip\n",
        "## **reviewdate:** Date of the Review customer review: Review of the customers in free text format\n",
        "## **aircraft:** Type of the aircraft\n",
        "## **travellertype:** Type of traveler (e.g. business, leisure)\n",
        "## **cabin:** Cabin at the flight date flown: Flight date\n",
        "## **seatcomfort:** Rated between 1-5\n",
        "## **cabin service:** Rated between 1-5\n",
        "## **foodbev:** Rated between 1-5 entertainment: Rated between 1-5\n",
        "## **groundservice:** Rated between 1-5\n",
        "## **valueformoney:** Rated between 1-5\n",
        "## **recommended:** Binary, target variable.\n",
        "\n",
        "\n"
      ],
      "metadata": {
        "id": "G3ZSVUeDGAtQ"
      }
    },
    {
      "cell_type": "code",
      "source": [
        "# Importing necessary libraries.\n",
        "import numpy as np\n",
        "import pandas as pd\n",
        "import matplotlib.pyplot as plt\n",
        "%matplotlib inline\n",
        "import seaborn as sns\n",
        "import math\n",
        "import scipy.stats as stat\n",
        "from datetime import *\n",
        "from statsmodels.stats.outliers_influence import variance_inflation_factor\n",
        "\n",
        "from sklearn.model_selection import train_test_split\n",
        "from sklearn.linear_model import LogisticRegression\n",
        "from sklearn.ensemble import RandomForestClassifier\n",
        "from sklearn.tree import DecisionTreeClassifier\n",
        "from sklearn.metrics import *\n",
        "from sklearn.model_selection import GridSearchCV\n",
        "\n",
        "import warnings\n",
        "warnings.filterwarnings(action='ignore')"
      ],
      "metadata": {
        "id": "ZA80bs6SG4Rx",
        "colab": {
          "base_uri": "https://localhost:8080/"
        },
        "outputId": "b4dd8418-a0b3-47b0-8ee1-47b3f45495ab"
      },
      "execution_count": 1,
      "outputs": [
        {
          "output_type": "stream",
          "name": "stderr",
          "text": [
            "/usr/local/lib/python3.7/dist-packages/statsmodels/tools/_testing.py:19: FutureWarning: pandas.util.testing is deprecated. Use the functions in the public API at pandas.testing instead.\n",
            "  import pandas.util.testing as tm\n"
          ]
        }
      ]
    }
  ]
}